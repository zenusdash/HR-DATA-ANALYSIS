{
 "cells": [
  {
   "cell_type": "code",
   "execution_count": 1,
   "id": "7e34d6ab",
   "metadata": {},
   "outputs": [],
   "source": [
    "# importing the required libraries\n",
    "\n",
    "import pandas as pd\n",
    "import matplotlib.pyplot as plt\n",
    "%matplotlib inline\n",
    "import seaborn as sns"
   ]
  },
  {
   "cell_type": "code",
   "execution_count": 2,
   "id": "d026bcef",
   "metadata": {},
   "outputs": [],
   "source": [
    "# importing the dataset\n",
    "\n",
    "df = pd.read_csv(\"HR Data.csv\")"
   ]
  },
  {
   "cell_type": "markdown",
   "id": "b90c1f39",
   "metadata": {},
   "source": [
    "Print first 5 datas"
   ]
  },
  {
   "cell_type": "code",
   "execution_count": 3,
   "id": "b40403a7",
   "metadata": {},
   "outputs": [
    {
     "data": {
      "application/vnd.microsoft.datawrangler.viewer.v0+json": {
       "columns": [
        {
         "name": "index",
         "rawType": "int64",
         "type": "integer"
        },
        {
         "name": "Unnamed: 0",
         "rawType": "int64",
         "type": "integer"
        },
        {
         "name": "Employee_ID",
         "rawType": "object",
         "type": "string"
        },
        {
         "name": "Full_Name",
         "rawType": "object",
         "type": "string"
        },
        {
         "name": "Department",
         "rawType": "object",
         "type": "string"
        },
        {
         "name": "Job_Title",
         "rawType": "object",
         "type": "string"
        },
        {
         "name": "Hire_Date",
         "rawType": "object",
         "type": "string"
        },
        {
         "name": "Location",
         "rawType": "object",
         "type": "string"
        },
        {
         "name": "Performance_Rating",
         "rawType": "int64",
         "type": "integer"
        },
        {
         "name": "Experience_Years",
         "rawType": "int64",
         "type": "integer"
        },
        {
         "name": "Status",
         "rawType": "object",
         "type": "string"
        },
        {
         "name": "Work_Mode",
         "rawType": "object",
         "type": "string"
        },
        {
         "name": "Salary_INR",
         "rawType": "int64",
         "type": "integer"
        }
       ],
       "ref": "d2c3da58-9055-48bd-89bd-ac7b762444c0",
       "rows": [
        [
         "0",
         "0",
         "EMP0000001",
         "Joshua Nguyen",
         "IT",
         "Software Engineer",
         "10-08-2011",
         "Isaacland, Denmark",
         "5",
         "14",
         "Resigned",
         "On-site",
         "1585363"
        ],
        [
         "1",
         "1",
         "EMP0000002",
         "Julie Williams",
         "Marketing",
         "SEO Specialist",
         "02-03-2018",
         "Anthonyside, Costa Rica",
         "2",
         "7",
         "Active",
         "On-site",
         "847686"
        ],
        [
         "2",
         "2",
         "EMP0000003",
         "Alyssa Martinez",
         "HR",
         "HR Manager",
         "20-03-2023",
         "Port Christinaport, Saudi Arabia",
         "1",
         "2",
         "Active",
         "On-site",
         "1430084"
        ],
        [
         "3",
         "3",
         "EMP0000004",
         "Nicholas Valdez",
         "IT",
         "Software Engineer",
         "12-10-2023",
         "Port Shelbychester, Antigua and Barbuda",
         "1",
         "1",
         "Active",
         "On-site",
         "990689"
        ],
        [
         "4",
         "4",
         "EMP0000005",
         "Joel Hendricks",
         "Operations",
         "Logistics Coordinator",
         "09-12-2024",
         "Lake Kimberly, Palestinian Territory",
         "5",
         "0",
         "Active",
         "On-site",
         "535082"
        ]
       ],
       "shape": {
        "columns": 12,
        "rows": 5
       }
      },
      "text/html": [
       "<div>\n",
       "<style scoped>\n",
       "    .dataframe tbody tr th:only-of-type {\n",
       "        vertical-align: middle;\n",
       "    }\n",
       "\n",
       "    .dataframe tbody tr th {\n",
       "        vertical-align: top;\n",
       "    }\n",
       "\n",
       "    .dataframe thead th {\n",
       "        text-align: right;\n",
       "    }\n",
       "</style>\n",
       "<table border=\"1\" class=\"dataframe\">\n",
       "  <thead>\n",
       "    <tr style=\"text-align: right;\">\n",
       "      <th></th>\n",
       "      <th>Unnamed: 0</th>\n",
       "      <th>Employee_ID</th>\n",
       "      <th>Full_Name</th>\n",
       "      <th>Department</th>\n",
       "      <th>Job_Title</th>\n",
       "      <th>Hire_Date</th>\n",
       "      <th>Location</th>\n",
       "      <th>Performance_Rating</th>\n",
       "      <th>Experience_Years</th>\n",
       "      <th>Status</th>\n",
       "      <th>Work_Mode</th>\n",
       "      <th>Salary_INR</th>\n",
       "    </tr>\n",
       "  </thead>\n",
       "  <tbody>\n",
       "    <tr>\n",
       "      <th>0</th>\n",
       "      <td>0</td>\n",
       "      <td>EMP0000001</td>\n",
       "      <td>Joshua Nguyen</td>\n",
       "      <td>IT</td>\n",
       "      <td>Software Engineer</td>\n",
       "      <td>10-08-2011</td>\n",
       "      <td>Isaacland, Denmark</td>\n",
       "      <td>5</td>\n",
       "      <td>14</td>\n",
       "      <td>Resigned</td>\n",
       "      <td>On-site</td>\n",
       "      <td>1585363</td>\n",
       "    </tr>\n",
       "    <tr>\n",
       "      <th>1</th>\n",
       "      <td>1</td>\n",
       "      <td>EMP0000002</td>\n",
       "      <td>Julie Williams</td>\n",
       "      <td>Marketing</td>\n",
       "      <td>SEO Specialist</td>\n",
       "      <td>02-03-2018</td>\n",
       "      <td>Anthonyside, Costa Rica</td>\n",
       "      <td>2</td>\n",
       "      <td>7</td>\n",
       "      <td>Active</td>\n",
       "      <td>On-site</td>\n",
       "      <td>847686</td>\n",
       "    </tr>\n",
       "    <tr>\n",
       "      <th>2</th>\n",
       "      <td>2</td>\n",
       "      <td>EMP0000003</td>\n",
       "      <td>Alyssa Martinez</td>\n",
       "      <td>HR</td>\n",
       "      <td>HR Manager</td>\n",
       "      <td>20-03-2023</td>\n",
       "      <td>Port Christinaport, Saudi Arabia</td>\n",
       "      <td>1</td>\n",
       "      <td>2</td>\n",
       "      <td>Active</td>\n",
       "      <td>On-site</td>\n",
       "      <td>1430084</td>\n",
       "    </tr>\n",
       "    <tr>\n",
       "      <th>3</th>\n",
       "      <td>3</td>\n",
       "      <td>EMP0000004</td>\n",
       "      <td>Nicholas Valdez</td>\n",
       "      <td>IT</td>\n",
       "      <td>Software Engineer</td>\n",
       "      <td>12-10-2023</td>\n",
       "      <td>Port Shelbychester, Antigua and Barbuda</td>\n",
       "      <td>1</td>\n",
       "      <td>1</td>\n",
       "      <td>Active</td>\n",
       "      <td>On-site</td>\n",
       "      <td>990689</td>\n",
       "    </tr>\n",
       "    <tr>\n",
       "      <th>4</th>\n",
       "      <td>4</td>\n",
       "      <td>EMP0000005</td>\n",
       "      <td>Joel Hendricks</td>\n",
       "      <td>Operations</td>\n",
       "      <td>Logistics Coordinator</td>\n",
       "      <td>09-12-2024</td>\n",
       "      <td>Lake Kimberly, Palestinian Territory</td>\n",
       "      <td>5</td>\n",
       "      <td>0</td>\n",
       "      <td>Active</td>\n",
       "      <td>On-site</td>\n",
       "      <td>535082</td>\n",
       "    </tr>\n",
       "  </tbody>\n",
       "</table>\n",
       "</div>"
      ],
      "text/plain": [
       "   Unnamed: 0 Employee_ID        Full_Name  Department              Job_Title  \\\n",
       "0           0  EMP0000001    Joshua Nguyen          IT      Software Engineer   \n",
       "1           1  EMP0000002   Julie Williams   Marketing         SEO Specialist   \n",
       "2           2  EMP0000003  Alyssa Martinez          HR             HR Manager   \n",
       "3           3  EMP0000004  Nicholas Valdez          IT      Software Engineer   \n",
       "4           4  EMP0000005   Joel Hendricks  Operations  Logistics Coordinator   \n",
       "\n",
       "    Hire_Date                                 Location  Performance_Rating  \\\n",
       "0  10-08-2011                       Isaacland, Denmark                   5   \n",
       "1  02-03-2018                  Anthonyside, Costa Rica                   2   \n",
       "2  20-03-2023         Port Christinaport, Saudi Arabia                   1   \n",
       "3  12-10-2023  Port Shelbychester, Antigua and Barbuda                   1   \n",
       "4  09-12-2024     Lake Kimberly, Palestinian Territory                   5   \n",
       "\n",
       "   Experience_Years    Status Work_Mode  Salary_INR  \n",
       "0                14  Resigned   On-site     1585363  \n",
       "1                 7    Active   On-site      847686  \n",
       "2                 2    Active   On-site     1430084  \n",
       "3                 1    Active   On-site      990689  \n",
       "4                 0    Active   On-site      535082  "
      ]
     },
     "execution_count": 3,
     "metadata": {},
     "output_type": "execute_result"
    }
   ],
   "source": [
    "df.head()"
   ]
  },
  {
   "cell_type": "markdown",
   "id": "f26fdad2",
   "metadata": {},
   "source": [
    "Getting basic information about the dataset"
   ]
  },
  {
   "cell_type": "code",
   "execution_count": 4,
   "id": "30fb4fac",
   "metadata": {},
   "outputs": [
    {
     "name": "stdout",
     "output_type": "stream",
     "text": [
      "<class 'pandas.core.frame.DataFrame'>\n",
      "RangeIndex: 1048575 entries, 0 to 1048574\n",
      "Data columns (total 12 columns):\n",
      " #   Column              Non-Null Count    Dtype \n",
      "---  ------              --------------    ----- \n",
      " 0   Unnamed: 0          1048575 non-null  int64 \n",
      " 1   Employee_ID         1048575 non-null  object\n",
      " 2   Full_Name           1048575 non-null  object\n",
      " 3   Department          1048575 non-null  object\n",
      " 4   Job_Title           1048575 non-null  object\n",
      " 5   Hire_Date           1048575 non-null  object\n",
      " 6   Location            1048575 non-null  object\n",
      " 7   Performance_Rating  1048575 non-null  int64 \n",
      " 8   Experience_Years    1048575 non-null  int64 \n",
      " 9   Status              1048575 non-null  object\n",
      " 10  Work_Mode           1048575 non-null  object\n",
      " 11  Salary_INR          1048575 non-null  int64 \n",
      "dtypes: int64(4), object(8)\n",
      "memory usage: 96.0+ MB\n"
     ]
    }
   ],
   "source": [
    "df.info()"
   ]
  },
  {
   "cell_type": "markdown",
   "id": "cb35e631",
   "metadata": {},
   "source": [
    "Removing unwamnted column from the dataframe"
   ]
  },
  {
   "cell_type": "code",
   "execution_count": 5,
   "id": "71af6c5c",
   "metadata": {},
   "outputs": [],
   "source": [
    "df.drop( 'Unnamed: 0', axis = 1, inplace = True)"
   ]
  },
  {
   "cell_type": "code",
   "execution_count": 6,
   "id": "a3e27b6a",
   "metadata": {},
   "outputs": [],
   "source": [
    "#unnamed: 0 is an index column so we drop it"
   ]
  },
  {
   "cell_type": "markdown",
   "id": "a873225b",
   "metadata": {},
   "source": [
    "Change the data-tpye of Date colum"
   ]
  },
  {
   "cell_type": "code",
   "execution_count": 7,
   "id": "12634e5e",
   "metadata": {},
   "outputs": [],
   "source": [
    "df['Hire_Date'] = pd.to_datetime(df['Hire_Date'], format='%d-%m-%Y', dayfirst=True)"
   ]
  },
  {
   "cell_type": "code",
   "execution_count": 8,
   "id": "71d34988",
   "metadata": {},
   "outputs": [
    {
     "data": {
      "application/vnd.microsoft.datawrangler.viewer.v0+json": {
       "columns": [
        {
         "name": "index",
         "rawType": "int64",
         "type": "integer"
        },
        {
         "name": "Employee_ID",
         "rawType": "object",
         "type": "string"
        },
        {
         "name": "Full_Name",
         "rawType": "object",
         "type": "string"
        },
        {
         "name": "Department",
         "rawType": "object",
         "type": "string"
        },
        {
         "name": "Job_Title",
         "rawType": "object",
         "type": "string"
        },
        {
         "name": "Hire_Date",
         "rawType": "datetime64[ns]",
         "type": "datetime"
        },
        {
         "name": "Location",
         "rawType": "object",
         "type": "string"
        },
        {
         "name": "Performance_Rating",
         "rawType": "int64",
         "type": "integer"
        },
        {
         "name": "Experience_Years",
         "rawType": "int64",
         "type": "integer"
        },
        {
         "name": "Status",
         "rawType": "object",
         "type": "string"
        },
        {
         "name": "Work_Mode",
         "rawType": "object",
         "type": "string"
        },
        {
         "name": "Salary_INR",
         "rawType": "int64",
         "type": "integer"
        }
       ],
       "ref": "46ece6a0-52e1-404f-a9f0-0f96c458c6f3",
       "rows": [
        [
         "0",
         "EMP0000001",
         "Joshua Nguyen",
         "IT",
         "Software Engineer",
         "2011-08-10 00:00:00",
         "Isaacland, Denmark",
         "5",
         "14",
         "Resigned",
         "On-site",
         "1585363"
        ],
        [
         "1",
         "EMP0000002",
         "Julie Williams",
         "Marketing",
         "SEO Specialist",
         "2018-03-02 00:00:00",
         "Anthonyside, Costa Rica",
         "2",
         "7",
         "Active",
         "On-site",
         "847686"
        ],
        [
         "2",
         "EMP0000003",
         "Alyssa Martinez",
         "HR",
         "HR Manager",
         "2023-03-20 00:00:00",
         "Port Christinaport, Saudi Arabia",
         "1",
         "2",
         "Active",
         "On-site",
         "1430084"
        ]
       ],
       "shape": {
        "columns": 11,
        "rows": 3
       }
      },
      "text/html": [
       "<div>\n",
       "<style scoped>\n",
       "    .dataframe tbody tr th:only-of-type {\n",
       "        vertical-align: middle;\n",
       "    }\n",
       "\n",
       "    .dataframe tbody tr th {\n",
       "        vertical-align: top;\n",
       "    }\n",
       "\n",
       "    .dataframe thead th {\n",
       "        text-align: right;\n",
       "    }\n",
       "</style>\n",
       "<table border=\"1\" class=\"dataframe\">\n",
       "  <thead>\n",
       "    <tr style=\"text-align: right;\">\n",
       "      <th></th>\n",
       "      <th>Employee_ID</th>\n",
       "      <th>Full_Name</th>\n",
       "      <th>Department</th>\n",
       "      <th>Job_Title</th>\n",
       "      <th>Hire_Date</th>\n",
       "      <th>Location</th>\n",
       "      <th>Performance_Rating</th>\n",
       "      <th>Experience_Years</th>\n",
       "      <th>Status</th>\n",
       "      <th>Work_Mode</th>\n",
       "      <th>Salary_INR</th>\n",
       "    </tr>\n",
       "  </thead>\n",
       "  <tbody>\n",
       "    <tr>\n",
       "      <th>0</th>\n",
       "      <td>EMP0000001</td>\n",
       "      <td>Joshua Nguyen</td>\n",
       "      <td>IT</td>\n",
       "      <td>Software Engineer</td>\n",
       "      <td>2011-08-10</td>\n",
       "      <td>Isaacland, Denmark</td>\n",
       "      <td>5</td>\n",
       "      <td>14</td>\n",
       "      <td>Resigned</td>\n",
       "      <td>On-site</td>\n",
       "      <td>1585363</td>\n",
       "    </tr>\n",
       "    <tr>\n",
       "      <th>1</th>\n",
       "      <td>EMP0000002</td>\n",
       "      <td>Julie Williams</td>\n",
       "      <td>Marketing</td>\n",
       "      <td>SEO Specialist</td>\n",
       "      <td>2018-03-02</td>\n",
       "      <td>Anthonyside, Costa Rica</td>\n",
       "      <td>2</td>\n",
       "      <td>7</td>\n",
       "      <td>Active</td>\n",
       "      <td>On-site</td>\n",
       "      <td>847686</td>\n",
       "    </tr>\n",
       "    <tr>\n",
       "      <th>2</th>\n",
       "      <td>EMP0000003</td>\n",
       "      <td>Alyssa Martinez</td>\n",
       "      <td>HR</td>\n",
       "      <td>HR Manager</td>\n",
       "      <td>2023-03-20</td>\n",
       "      <td>Port Christinaport, Saudi Arabia</td>\n",
       "      <td>1</td>\n",
       "      <td>2</td>\n",
       "      <td>Active</td>\n",
       "      <td>On-site</td>\n",
       "      <td>1430084</td>\n",
       "    </tr>\n",
       "  </tbody>\n",
       "</table>\n",
       "</div>"
      ],
      "text/plain": [
       "  Employee_ID        Full_Name Department          Job_Title  Hire_Date  \\\n",
       "0  EMP0000001    Joshua Nguyen         IT  Software Engineer 2011-08-10   \n",
       "1  EMP0000002   Julie Williams  Marketing     SEO Specialist 2018-03-02   \n",
       "2  EMP0000003  Alyssa Martinez         HR         HR Manager 2023-03-20   \n",
       "\n",
       "                           Location  Performance_Rating  Experience_Years  \\\n",
       "0                Isaacland, Denmark                   5                14   \n",
       "1           Anthonyside, Costa Rica                   2                 7   \n",
       "2  Port Christinaport, Saudi Arabia                   1                 2   \n",
       "\n",
       "     Status Work_Mode  Salary_INR  \n",
       "0  Resigned   On-site     1585363  \n",
       "1    Active   On-site      847686  \n",
       "2    Active   On-site     1430084  "
      ]
     },
     "execution_count": 8,
     "metadata": {},
     "output_type": "execute_result"
    }
   ],
   "source": [
    "df.head(3)"
   ]
  },
  {
   "cell_type": "code",
   "execution_count": 9,
   "id": "457ac960",
   "metadata": {},
   "outputs": [
    {
     "name": "stdout",
     "output_type": "stream",
     "text": [
      "<class 'pandas.core.frame.DataFrame'>\n",
      "RangeIndex: 1048575 entries, 0 to 1048574\n",
      "Data columns (total 11 columns):\n",
      " #   Column              Non-Null Count    Dtype         \n",
      "---  ------              --------------    -----         \n",
      " 0   Employee_ID         1048575 non-null  object        \n",
      " 1   Full_Name           1048575 non-null  object        \n",
      " 2   Department          1048575 non-null  object        \n",
      " 3   Job_Title           1048575 non-null  object        \n",
      " 4   Hire_Date           1048575 non-null  datetime64[ns]\n",
      " 5   Location            1048575 non-null  object        \n",
      " 6   Performance_Rating  1048575 non-null  int64         \n",
      " 7   Experience_Years    1048575 non-null  int64         \n",
      " 8   Status              1048575 non-null  object        \n",
      " 9   Work_Mode           1048575 non-null  object        \n",
      " 10  Salary_INR          1048575 non-null  int64         \n",
      "dtypes: datetime64[ns](1), int64(3), object(7)\n",
      "memory usage: 88.0+ MB\n"
     ]
    }
   ],
   "source": [
    "df.info()\n"
   ]
  },
  {
   "cell_type": "markdown",
   "id": "0970a2cb",
   "metadata": {},
   "source": [
    "1> What is the distribution of Employee Status (Active, Resigned, Retired, Terminated) ?"
   ]
  },
  {
   "cell_type": "code",
   "execution_count": 10,
   "id": "02dd9378",
   "metadata": {},
   "outputs": [
    {
     "data": {
      "application/vnd.microsoft.datawrangler.viewer.v0+json": {
       "columns": [
        {
         "name": "Status",
         "rawType": "object",
         "type": "string"
        },
        {
         "name": "count",
         "rawType": "int64",
         "type": "integer"
        }
       ],
       "ref": "282fdb27-773e-4755-9a4a-c6d75f2db4b9",
       "rows": [
        [
         "Active",
         "734439"
        ],
        [
         "Resigned",
         "209342"
        ],
        [
         "Retired",
         "52462"
        ],
        [
         "Terminated",
         "52332"
        ]
       ],
       "shape": {
        "columns": 1,
        "rows": 4
       }
      },
      "text/plain": [
       "Status\n",
       "Active        734439\n",
       "Resigned      209342\n",
       "Retired        52462\n",
       "Terminated     52332\n",
       "Name: count, dtype: int64"
      ]
     },
     "execution_count": 10,
     "metadata": {},
     "output_type": "execute_result"
    }
   ],
   "source": [
    "\n",
    "status = df['Status'].value_counts()\n",
    "status"
   ]
  },
  {
   "cell_type": "code",
   "execution_count": 11,
   "id": "026d2ffb",
   "metadata": {},
   "outputs": [
    {
     "data": {
      "image/png": "[encoded data removed]",
      "text/plain": [
       "<Figure size 640x480 with 1 Axes>"
      ]
     },
     "metadata": {},
     "output_type": "display_data"
    }
   ],
   "source": [
    "status.plot( kind = 'pie' , colors = 'mygr', autopct= '%1.1f%%', explode=(0.03,0.03,0.03,0.03))\n",
    "\n",
    "plt.show()"
   ]
  },
  {
   "cell_type": "markdown",
   "id": "5b5f2ad9",
   "metadata": {},
   "source": [
    "What is the distribution of work modes (On-site, Remote) ?"
   ]
  },
  {
   "cell_type": "code",
   "execution_count": 12,
   "id": "ed206fe1",
   "metadata": {},
   "outputs": [
    {
     "data": {
      "application/vnd.microsoft.datawrangler.viewer.v0+json": {
       "columns": [
        {
         "name": "Work_Mode",
         "rawType": "object",
         "type": "string"
        },
        {
         "name": "count",
         "rawType": "int64",
         "type": "integer"
        }
       ],
       "ref": "501a9644-0def-422e-b29d-3a4d994b5a50",
       "rows": [
        [
         "On-site",
         "628436"
        ],
        [
         "Remote",
         "420139"
        ]
       ],
       "shape": {
        "columns": 1,
        "rows": 2
       }
      },
      "text/plain": [
       "Work_Mode\n",
       "On-site    628436\n",
       "Remote     420139\n",
       "Name: count, dtype: int64"
      ]
     },
     "execution_count": 12,
     "metadata": {},
     "output_type": "execute_result"
    }
   ],
   "source": [
    "work = df['Work_Mode'].value_counts()\n",
    "work"
   ]
  },
  {
   "cell_type": "markdown",
   "id": "bbe884d6",
   "metadata": {},
   "source": [
    "How many employees are there in each department?"
   ]
  },
  {
   "cell_type": "code",
   "execution_count": 13,
   "id": "61a96594",
   "metadata": {},
   "outputs": [
    {
     "data": {
      "application/vnd.microsoft.datawrangler.viewer.v0+json": {
       "columns": [
        {
         "name": "Department",
         "rawType": "object",
         "type": "string"
        },
        {
         "name": "count",
         "rawType": "int64",
         "type": "integer"
        }
       ],
       "ref": "876b5a2b-58b0-4b7c-a2c1-3d8968a4c170",
       "rows": [
        [
         "IT",
         "315028"
        ],
        [
         "Sales",
         "209524"
        ],
        [
         "Operations",
         "157513"
        ],
        [
         "Marketing",
         "126113"
        ],
        [
         "Finance",
         "104722"
        ],
        [
         "HR",
         "83484"
        ],
        [
         "R&D",
         "52191"
        ]
       ],
       "shape": {
        "columns": 1,
        "rows": 7
       }
      },
      "text/plain": [
       "Department\n",
       "IT            315028\n",
       "Sales         209524\n",
       "Operations    157513\n",
       "Marketing     126113\n",
       "Finance       104722\n",
       "HR             83484\n",
       "R&D            52191\n",
       "Name: count, dtype: int64"
      ]
     },
     "execution_count": 13,
     "metadata": {},
     "output_type": "execute_result"
    }
   ],
   "source": [
    "df['Department'].value_counts()"
   ]
  },
  {
   "cell_type": "code",
   "execution_count": 14,
   "id": "0adfb135",
   "metadata": {},
   "outputs": [
    {
     "data": {
      "image/png": "[encoded data removed]",
      "text/plain": [
       "<Figure size 640x480 with 1 Axes>"
      ]
     },
     "metadata": {},
     "output_type": "display_data"
    }
   ],
   "source": [
    "sns.countplot(x='Department', data=df)\n",
    "\n",
    "plt.show()"
   ]
  },
  {
   "cell_type": "markdown",
   "id": "86998a28",
   "metadata": {},
   "source": [
    "What is the average salary by Department?"
   ]
  },
  {
   "cell_type": "code",
   "execution_count": 15,
   "id": "cd320dac",
   "metadata": {},
   "outputs": [
    {
     "data": {
      "application/vnd.microsoft.datawrangler.viewer.v0+json": {
       "columns": [
        {
         "name": "Department",
         "rawType": "object",
         "type": "string"
        },
        {
         "name": "Salary_INR",
         "rawType": "float64",
         "type": "float"
        }
       ],
       "ref": "778222db-5aae-434a-be67-835d414efb27",
       "rows": [
        [
         "IT",
         "1130.4798316721053"
        ],
        [
         "Finance",
         "940.4825371268691"
        ],
        [
         "R&D",
         "800.5640671380123"
        ],
        [
         "Sales",
         "792.6011381751016"
        ],
        [
         "Marketing",
         "769.8197619833006"
        ],
        [
         "Operations",
         "754.6911287195343"
        ],
        [
         "HR",
         "742.9245866872694"
        ]
       ],
       "shape": {
        "columns": 1,
        "rows": 7
       }
      },
      "text/plain": [
       "Department\n",
       "IT            1130.479832\n",
       "Finance        940.482537\n",
       "R&D            800.564067\n",
       "Sales          792.601138\n",
       "Marketing      769.819762\n",
       "Operations     754.691129\n",
       "HR             742.924587\n",
       "Name: Salary_INR, dtype: float64"
      ]
     },
     "execution_count": 15,
     "metadata": {},
     "output_type": "execute_result"
    }
   ],
   "source": [
    "dept = df.groupby('Department')['Salary_INR'].mean()/1000\n",
    "\n",
    "dept\n",
    "dept.sort_values(ascending=False)\n"
   ]
  },
  {
   "cell_type": "markdown",
   "id": "247e8b38",
   "metadata": {},
   "source": [
    "Which job title has the highest average salary?"
   ]
  },
  {
   "cell_type": "code",
   "execution_count": 16,
   "id": "5e28057d",
   "metadata": {},
   "outputs": [
    {
     "data": {
      "application/vnd.microsoft.datawrangler.viewer.v0+json": {
       "columns": [
        {
         "name": "Job_Title",
         "rawType": "object",
         "type": "string"
        },
        {
         "name": "Salary_INR",
         "rawType": "float64",
         "type": "float"
        }
       ],
       "ref": "f1ca16a0-f799-49a1-a96b-b855a142ec2d",
       "rows": [
        [
         "IT Manager",
         "2100.8850826779085"
        ],
        [
         "Finance Manager",
         "1741.8481834668376"
        ],
        [
         "HR Manager",
         "1252.5285844333548"
        ],
        [
         "Business Development Manager",
         "1251.1372891171607"
        ],
        [
         "Software Engineer",
         "1198.1765780797562"
        ],
        [
         "Financial Analyst",
         "1052.3710818010297"
        ],
        [
         "Brand Manager",
         "802.4260919117647"
        ],
        [
         "Research Scientist",
         "802.3473939137784"
        ],
        [
         "Content Strategist",
         "801.8396124297976"
        ],
        [
         "CTO",
         "801.5820742820677"
        ],
        [
         "HR Director",
         "801.0148609600378"
        ],
        [
         "DevOps Engineer",
         "800.4794513381221"
        ],
        [
         "Lab Technician",
         "800.4137241556441"
        ],
        [
         "Operations Executive",
         "800.3822824565423"
        ],
        [
         "Data Analyst",
         "800.130396460993"
        ],
        [
         "Account Manager",
         "800.0250519290895"
        ],
        [
         "Talent Acquisition Specialist",
         "799.9965280279288"
        ],
        [
         "Operations Director",
         "799.843256426491"
        ],
        [
         "Supply Chain Manager",
         "798.9365558511762"
        ],
        [
         "Marketing Executive",
         "798.7722734169597"
        ],
        [
         "Product Developer",
         "798.3439253645801"
        ],
        [
         "Sales Director",
         "798.2964561217609"
        ],
        [
         "CFO",
         "796.6929973875723"
        ],
        [
         "Innovation Manager",
         "796.6839715887851"
        ],
        [
         "SEO Specialist",
         "700.1584718721099"
        ],
        [
         "Accountant",
         "650.2466797111665"
        ],
        [
         "Sales Executive",
         "649.845314242048"
        ],
        [
         "Logistics Coordinator",
         "649.216393960511"
        ],
        [
         "HR Executive",
         "550.3530831491448"
        ]
       ],
       "shape": {
        "columns": 1,
        "rows": 29
       }
      },
      "text/plain": [
       "Job_Title\n",
       "IT Manager                       2100.885083\n",
       "Finance Manager                  1741.848183\n",
       "HR Manager                       1252.528584\n",
       "Business Development Manager     1251.137289\n",
       "Software Engineer                1198.176578\n",
       "Financial Analyst                1052.371082\n",
       "Brand Manager                     802.426092\n",
       "Research Scientist                802.347394\n",
       "Content Strategist                801.839612\n",
       "CTO                               801.582074\n",
       "HR Director                       801.014861\n",
       "DevOps Engineer                   800.479451\n",
       "Lab Technician                    800.413724\n",
       "Operations Executive              800.382282\n",
       "Data Analyst                      800.130396\n",
       "Account Manager                   800.025052\n",
       "Talent Acquisition Specialist     799.996528\n",
       "Operations Director               799.843256\n",
       "Supply Chain Manager              798.936556\n",
       "Marketing Executive               798.772273\n",
       "Product Developer                 798.343925\n",
       "Sales Director                    798.296456\n",
       "CFO                               796.692997\n",
       "Innovation Manager                796.683972\n",
       "SEO Specialist                    700.158472\n",
       "Accountant                        650.246680\n",
       "Sales Executive                   649.845314\n",
       "Logistics Coordinator             649.216394\n",
       "HR Executive                      550.353083\n",
       "Name: Salary_INR, dtype: float64"
      ]
     },
     "execution_count": 16,
     "metadata": {},
     "output_type": "execute_result"
    }
   ],
   "source": [
    "salary = df.groupby('Job_Title')['Salary_INR'].mean()/1000\n",
    "salary\n",
    "salary.sort_values(ascending=False)"
   ]
  },
  {
   "cell_type": "markdown",
   "id": "85884d0f",
   "metadata": {},
   "source": [
    "How many employees Resigned & Terminated in each department ?"
   ]
  },
  {
   "cell_type": "code",
   "execution_count": 17,
   "id": "e34e8a8f",
   "metadata": {},
   "outputs": [
    {
     "data": {
      "application/vnd.microsoft.datawrangler.viewer.v0+json": {
       "columns": [
        {
         "name": "index",
         "rawType": "int64",
         "type": "integer"
        },
        {
         "name": "Employee_ID",
         "rawType": "object",
         "type": "string"
        },
        {
         "name": "Full_Name",
         "rawType": "object",
         "type": "string"
        },
        {
         "name": "Department",
         "rawType": "object",
         "type": "string"
        },
        {
         "name": "Job_Title",
         "rawType": "object",
         "type": "string"
        },
        {
         "name": "Hire_Date",
         "rawType": "datetime64[ns]",
         "type": "datetime"
        },
        {
         "name": "Location",
         "rawType": "object",
         "type": "string"
        },
        {
         "name": "Performance_Rating",
         "rawType": "int64",
         "type": "integer"
        },
        {
         "name": "Experience_Years",
         "rawType": "int64",
         "type": "integer"
        },
        {
         "name": "Status",
         "rawType": "object",
         "type": "string"
        },
        {
         "name": "Work_Mode",
         "rawType": "object",
         "type": "string"
        },
        {
         "name": "Salary_INR",
         "rawType": "int64",
         "type": "integer"
        }
       ],
       "ref": "3b4e032f-eb4d-4341-894c-9c77b2f7c052",
       "rows": [
        [
         "0",
         "EMP0000001",
         "Joshua Nguyen",
         "IT",
         "Software Engineer",
         "2011-08-10 00:00:00",
         "Isaacland, Denmark",
         "5",
         "14",
         "Resigned",
         "On-site",
         "1585363"
        ],
        [
         "8",
         "EMP0000009",
         "Cathy Thompson",
         "Finance",
         "Financial Analyst",
         "2018-05-29 00:00:00",
         "South Catherine, Belize",
         "4",
         "7",
         "Resigned",
         "Remote",
         "1138452"
        ],
        [
         "11",
         "EMP0000012",
         "Kevin Lowe",
         "Sales",
         "Account Manager",
         "2024-07-02 00:00:00",
         "East Kent, Qatar",
         "3",
         "1",
         "Resigned",
         "On-site",
         "1111759"
        ],
        [
         "16",
         "EMP0000017",
         "Robert Martin",
         "Operations",
         "Logistics Coordinator",
         "2025-05-13 00:00:00",
         "Laurahaven, Afghanistan",
         "3",
         "0",
         "Resigned",
         "On-site",
         "859025"
        ],
        [
         "19",
         "EMP0000020",
         "Donald Hoffman",
         "Marketing",
         "Content Strategist",
         "2022-04-01 00:00:00",
         "South James, New Zealand",
         "3",
         "3",
         "Resigned",
         "On-site",
         "965154"
        ],
        [
         "23",
         "EMP0000024",
         "Allen Palmer",
         "Finance",
         "Accountant",
         "2022-05-17 00:00:00",
         "Lake Brittney, Albania",
         "4",
         "3",
         "Resigned",
         "Remote",
         "577616"
        ],
        [
         "25",
         "EMP0000026",
         "Craig Kelly",
         "IT",
         "Software Engineer",
         "2025-01-15 00:00:00",
         "Martinmouth, Switzerland",
         "1",
         "0",
         "Resigned",
         "Remote",
         "1201087"
        ],
        [
         "39",
         "EMP0000040",
         "Emily Hudson",
         "Finance",
         "Finance Manager",
         "2021-05-25 00:00:00",
         "Ortizbury, Senegal",
         "2",
         "4",
         "Resigned",
         "Remote",
         "1448066"
        ],
        [
         "42",
         "EMP0000043",
         "John Daniels",
         "Marketing",
         "Marketing Executive",
         "2019-03-25 00:00:00",
         "East Charles, Qatar",
         "4",
         "6",
         "Resigned",
         "On-site",
         "671963"
        ],
        [
         "44",
         "EMP0000045",
         "Annette Mcdowell",
         "Sales",
         "Sales Executive",
         "2017-12-08 00:00:00",
         "Lake Heather, Dominica",
         "4",
         "7",
         "Resigned",
         "On-site",
         "845092"
        ],
        [
         "48",
         "EMP0000049",
         "Chad Newton",
         "IT",
         "DevOps Engineer",
         "2015-10-15 00:00:00",
         "South Jerryhaven, Mongolia",
         "3",
         "9",
         "Resigned",
         "Remote",
         "709525"
        ],
        [
         "55",
         "EMP0000056",
         "Pamela Gross",
         "IT",
         "Software Engineer",
         "2024-02-21 00:00:00",
         "Davidstad, Estonia",
         "3",
         "1",
         "Resigned",
         "Remote",
         "1493640"
        ],
        [
         "65",
         "EMP0000066",
         "Christopher Irwin",
         "HR",
         "HR Executive",
         "2016-09-20 00:00:00",
         "South Toddport, Seychelles",
         "5",
         "8",
         "Resigned",
         "Remote",
         "308469"
        ],
        [
         "66",
         "EMP0000067",
         "Ana Simmons",
         "R&D",
         "Research Scientist",
         "2016-09-02 00:00:00",
         "Lake Jason, Portugal",
         "5",
         "8",
         "Resigned",
         "On-site",
         "776228"
        ],
        [
         "68",
         "EMP0000069",
         "Diana Combs",
         "IT",
         "Software Engineer",
         "2014-07-23 00:00:00",
         "South Angelastad, Palestinian Territory",
         "5",
         "11",
         "Resigned",
         "Remote",
         "1136918"
        ],
        [
         "69",
         "EMP0000070",
         "Amanda Steele",
         "Sales",
         "Sales Executive",
         "2016-07-10 00:00:00",
         "Floresborough, Lebanon",
         "3",
         "9",
         "Resigned",
         "On-site",
         "701012"
        ],
        [
         "71",
         "EMP0000072",
         "Robert Phillips",
         "Marketing",
         "SEO Specialist",
         "2023-12-11 00:00:00",
         "Francoburgh, Andorra",
         "5",
         "1",
         "Resigned",
         "On-site",
         "634126"
        ],
        [
         "81",
         "EMP0000082",
         "David Powell",
         "Finance",
         "Accountant",
         "2015-08-29 00:00:00",
         "Lake Erinmouth, Czech Republic",
         "1",
         "9",
         "Resigned",
         "On-site",
         "552885"
        ],
        [
         "82",
         "EMP0000083",
         "Tricia Jimenez",
         "Sales",
         "Business Development Manager",
         "2020-03-29 00:00:00",
         "South Tyrone, French Guiana",
         "1",
         "5",
         "Resigned",
         "Remote",
         "1608034"
        ],
        [
         "88",
         "EMP0000089",
         "Christopher Martin",
         "Marketing",
         "Marketing Executive",
         "2021-12-04 00:00:00",
         "Jennifershire, Angola",
         "1",
         "3",
         "Resigned",
         "Remote",
         "443930"
        ],
        [
         "90",
         "EMP0000091",
         "Steven Peters",
         "IT",
         "DevOps Engineer",
         "2023-11-26 00:00:00",
         "Tarabury, Madagascar",
         "5",
         "1",
         "Resigned",
         "Remote",
         "705315"
        ],
        [
         "92",
         "EMP0000093",
         "Kayla Stanton",
         "IT",
         "DevOps Engineer",
         "2018-04-28 00:00:00",
         "West Christianstad, Guinea",
         "4",
         "7",
         "Resigned",
         "On-site",
         "638924"
        ],
        [
         "96",
         "EMP0000097",
         "Robert Barton",
         "Marketing",
         "Content Strategist",
         "2018-06-25 00:00:00",
         "West Rachel, Iceland",
         "4",
         "7",
         "Resigned",
         "On-site",
         "574729"
        ],
        [
         "101",
         "EMP0000102",
         "Brandon Snyder",
         "Finance",
         "Financial Analyst",
         "2017-07-12 00:00:00",
         "South Mollyton, Tanzania",
         "1",
         "8",
         "Resigned",
         "On-site",
         "1351062"
        ],
        [
         "103",
         "EMP0000104",
         "Tamara Wilson",
         "Finance",
         "Finance Manager",
         "2023-01-10 00:00:00",
         "South Stevenmouth, South Georgia and the South Sandwich Islands",
         "2",
         "2",
         "Resigned",
         "On-site",
         "2118072"
        ],
        [
         "109",
         "EMP0000110",
         "Robert Cox",
         "Sales",
         "Business Development Manager",
         "2012-10-29 00:00:00",
         "Nathanside, United Kingdom",
         "4",
         "12",
         "Resigned",
         "On-site",
         "1056152"
        ],
        [
         "110",
         "EMP0000111",
         "Christopher Kelly",
         "Sales",
         "Account Manager",
         "2022-08-30 00:00:00",
         "Gabriellachester, Namibia",
         "5",
         "2",
         "Resigned",
         "On-site",
         "500185"
        ],
        [
         "119",
         "EMP0000120",
         "Brooke Parker",
         "Operations",
         "Operations Executive",
         "2020-07-13 00:00:00",
         "Wardmouth, Saint Lucia",
         "1",
         "5",
         "Resigned",
         "On-site",
         "879087"
        ],
        [
         "120",
         "EMP0000121",
         "Michael Jacobs",
         "Sales",
         "Sales Executive",
         "2024-02-22 00:00:00",
         "New Jeremystad, Latvia",
         "4",
         "1",
         "Resigned",
         "On-site",
         "739283"
        ],
        [
         "137",
         "EMP0000138",
         "Mark David",
         "IT",
         "Software Engineer",
         "2017-12-05 00:00:00",
         "New Annemouth, Honduras",
         "2",
         "7",
         "Resigned",
         "Remote",
         "1654930"
        ],
        [
         "140",
         "EMP0000141",
         "Robert Lee",
         "Marketing",
         "Content Strategist",
         "2020-11-27 00:00:00",
         "Jonathanberg, Lesotho",
         "4",
         "4",
         "Resigned",
         "Remote",
         "1035195"
        ],
        [
         "141",
         "EMP0000142",
         "Jennifer Harrison",
         "Operations",
         "Operations Executive",
         "2015-10-23 00:00:00",
         "Mariahchester, American Samoa",
         "5",
         "9",
         "Resigned",
         "Remote",
         "456737"
        ],
        [
         "147",
         "EMP0000148",
         "Nicholas Parker",
         "R&D",
         "Research Scientist",
         "2020-05-05 00:00:00",
         "Justinside, Philippines",
         "3",
         "5",
         "Resigned",
         "On-site",
         "570314"
        ],
        [
         "155",
         "EMP0000156",
         "Scott Perry",
         "IT",
         "Software Engineer",
         "2019-11-03 00:00:00",
         "South Adamchester, Liberia",
         "5",
         "5",
         "Resigned",
         "On-site",
         "896063"
        ],
        [
         "157",
         "EMP0000158",
         "Kevin Reynolds",
         "Operations",
         "Operations Executive",
         "2018-05-24 00:00:00",
         "West John, Nepal",
         "2",
         "7",
         "Resigned",
         "On-site",
         "1137477"
        ],
        [
         "158",
         "EMP0000159",
         "Brendan Ruiz",
         "Marketing",
         "Marketing Executive",
         "2018-09-22 00:00:00",
         "South Sarahville, Western Sahara",
         "1",
         "6",
         "Resigned",
         "Remote",
         "551409"
        ],
        [
         "162",
         "EMP0000163",
         "Mr. Russell Palmer DDS",
         "IT",
         "Software Engineer",
         "2019-02-01 00:00:00",
         "South Jimview, French Guiana",
         "2",
         "6",
         "Resigned",
         "Remote",
         "1197783"
        ],
        [
         "164",
         "EMP0000165",
         "Michelle Martin DVM",
         "IT",
         "Software Engineer",
         "2023-05-26 00:00:00",
         "North Tammy, Vietnam",
         "5",
         "2",
         "Resigned",
         "On-site",
         "1515894"
        ],
        [
         "167",
         "EMP0000168",
         "Lori Hill",
         "Marketing",
         "Brand Manager",
         "2022-02-27 00:00:00",
         "North Steven, Costa Rica",
         "5",
         "3",
         "Resigned",
         "On-site",
         "511948"
        ],
        [
         "170",
         "EMP0000171",
         "Rebecca Kemp",
         "Operations",
         "Supply Chain Manager",
         "2020-10-01 00:00:00",
         "Byrdhaven, Sri Lanka",
         "3",
         "4",
         "Resigned",
         "On-site",
         "632261"
        ],
        [
         "182",
         "EMP0000183",
         "Jason Bell",
         "IT",
         "Software Engineer",
         "2011-09-07 00:00:00",
         "Ryanview, Denmark",
         "5",
         "13",
         "Resigned",
         "Remote",
         "1434052"
        ],
        [
         "183",
         "EMP0000184",
         "Teresa Mills",
         "IT",
         "CTO",
         "2024-03-24 00:00:00",
         "Moodyland, Syrian Arab Republic",
         "3",
         "1",
         "Resigned",
         "On-site",
         "403320"
        ],
        [
         "191",
         "EMP0000192",
         "Beverly Peterson",
         "Operations",
         "Operations Executive",
         "2021-11-08 00:00:00",
         "Hawkinsfurt, Indonesia",
         "2",
         "3",
         "Resigned",
         "Remote",
         "965645"
        ],
        [
         "198",
         "EMP0000199",
         "Kyle Moore",
         "IT",
         "Software Engineer",
         "2017-01-10 00:00:00",
         "Port David, New Zealand",
         "1",
         "8",
         "Resigned",
         "Remote",
         "733357"
        ],
        [
         "204",
         "EMP0000205",
         "Holly Harrington",
         "IT",
         "Software Engineer",
         "2020-06-12 00:00:00",
         "Jeremytown, Wallis and Futuna",
         "4",
         "5",
         "Resigned",
         "On-site",
         "646256"
        ],
        [
         "205",
         "EMP0000206",
         "Hannah Baker",
         "IT",
         "Data Analyst",
         "2023-10-18 00:00:00",
         "Bradleyton, French Guiana",
         "3",
         "1",
         "Resigned",
         "On-site",
         "559033"
        ],
        [
         "207",
         "EMP0000208",
         "Jose Baker",
         "IT",
         "IT Manager",
         "2017-03-03 00:00:00",
         "East Austinville, Argentina",
         "4",
         "8",
         "Resigned",
         "Remote",
         "2648462"
        ],
        [
         "208",
         "EMP0000209",
         "Ryan Walker",
         "Finance",
         "Accountant",
         "2013-01-06 00:00:00",
         "West Jessica, Peru",
         "1",
         "12",
         "Resigned",
         "Remote",
         "501722"
        ],
        [
         "220",
         "EMP0000221",
         "Tracy Schultz",
         "HR",
         "HR Executive",
         "2021-05-09 00:00:00",
         "Munozstad, Netherlands",
         "3",
         "4",
         "Resigned",
         "On-site",
         "543511"
        ],
        [
         "230",
         "EMP0000231",
         "Keith Chase",
         "Sales",
         "Sales Executive",
         "2018-01-12 00:00:00",
         "Dianefort, Guinea-Bissau",
         "2",
         "7",
         "Resigned",
         "On-site",
         "869170"
        ]
       ],
       "shape": {
        "columns": 11,
        "rows": 209342
       }
      },
      "text/html": [
       "<div>\n",
       "<style scoped>\n",
       "    .dataframe tbody tr th:only-of-type {\n",
       "        vertical-align: middle;\n",
       "    }\n",
       "\n",
       "    .dataframe tbody tr th {\n",
       "        vertical-align: top;\n",
       "    }\n",
       "\n",
       "    .dataframe thead th {\n",
       "        text-align: right;\n",
       "    }\n",
       "</style>\n",
       "<table border=\"1\" class=\"dataframe\">\n",
       "  <thead>\n",
       "    <tr style=\"text-align: right;\">\n",
       "      <th></th>\n",
       "      <th>Employee_ID</th>\n",
       "      <th>Full_Name</th>\n",
       "      <th>Department</th>\n",
       "      <th>Job_Title</th>\n",
       "      <th>Hire_Date</th>\n",
       "      <th>Location</th>\n",
       "      <th>Performance_Rating</th>\n",
       "      <th>Experience_Years</th>\n",
       "      <th>Status</th>\n",
       "      <th>Work_Mode</th>\n",
       "      <th>Salary_INR</th>\n",
       "    </tr>\n",
       "  </thead>\n",
       "  <tbody>\n",
       "    <tr>\n",
       "      <th>0</th>\n",
       "      <td>EMP0000001</td>\n",
       "      <td>Joshua Nguyen</td>\n",
       "      <td>IT</td>\n",
       "      <td>Software Engineer</td>\n",
       "      <td>2011-08-10</td>\n",
       "      <td>Isaacland, Denmark</td>\n",
       "      <td>5</td>\n",
       "      <td>14</td>\n",
       "      <td>Resigned</td>\n",
       "      <td>On-site</td>\n",
       "      <td>1585363</td>\n",
       "    </tr>\n",
       "    <tr>\n",
       "      <th>8</th>\n",
       "      <td>EMP0000009</td>\n",
       "      <td>Cathy Thompson</td>\n",
       "      <td>Finance</td>\n",
       "      <td>Financial Analyst</td>\n",
       "      <td>2018-05-29</td>\n",
       "      <td>South Catherine, Belize</td>\n",
       "      <td>4</td>\n",
       "      <td>7</td>\n",
       "      <td>Resigned</td>\n",
       "      <td>Remote</td>\n",
       "      <td>1138452</td>\n",
       "    </tr>\n",
       "    <tr>\n",
       "      <th>11</th>\n",
       "      <td>EMP0000012</td>\n",
       "      <td>Kevin Lowe</td>\n",
       "      <td>Sales</td>\n",
       "      <td>Account Manager</td>\n",
       "      <td>2024-07-02</td>\n",
       "      <td>East Kent, Qatar</td>\n",
       "      <td>3</td>\n",
       "      <td>1</td>\n",
       "      <td>Resigned</td>\n",
       "      <td>On-site</td>\n",
       "      <td>1111759</td>\n",
       "    </tr>\n",
       "    <tr>\n",
       "      <th>16</th>\n",
       "      <td>EMP0000017</td>\n",
       "      <td>Robert Martin</td>\n",
       "      <td>Operations</td>\n",
       "      <td>Logistics Coordinator</td>\n",
       "      <td>2025-05-13</td>\n",
       "      <td>Laurahaven, Afghanistan</td>\n",
       "      <td>3</td>\n",
       "      <td>0</td>\n",
       "      <td>Resigned</td>\n",
       "      <td>On-site</td>\n",
       "      <td>859025</td>\n",
       "    </tr>\n",
       "    <tr>\n",
       "      <th>19</th>\n",
       "      <td>EMP0000020</td>\n",
       "      <td>Donald Hoffman</td>\n",
       "      <td>Marketing</td>\n",
       "      <td>Content Strategist</td>\n",
       "      <td>2022-04-01</td>\n",
       "      <td>South James, New Zealand</td>\n",
       "      <td>3</td>\n",
       "      <td>3</td>\n",
       "      <td>Resigned</td>\n",
       "      <td>On-site</td>\n",
       "      <td>965154</td>\n",
       "    </tr>\n",
       "    <tr>\n",
       "      <th>...</th>\n",
       "      <td>...</td>\n",
       "      <td>...</td>\n",
       "      <td>...</td>\n",
       "      <td>...</td>\n",
       "      <td>...</td>\n",
       "      <td>...</td>\n",
       "      <td>...</td>\n",
       "      <td>...</td>\n",
       "      <td>...</td>\n",
       "      <td>...</td>\n",
       "      <td>...</td>\n",
       "    </tr>\n",
       "    <tr>\n",
       "      <th>1048552</th>\n",
       "      <td>EMP1048553</td>\n",
       "      <td>Diana Maxwell</td>\n",
       "      <td>Finance</td>\n",
       "      <td>Accountant</td>\n",
       "      <td>2025-01-22</td>\n",
       "      <td>Kristenchester, Saint Kitts and Nevis</td>\n",
       "      <td>1</td>\n",
       "      <td>0</td>\n",
       "      <td>Resigned</td>\n",
       "      <td>Remote</td>\n",
       "      <td>402050</td>\n",
       "    </tr>\n",
       "    <tr>\n",
       "      <th>1048553</th>\n",
       "      <td>EMP1048554</td>\n",
       "      <td>Karen Cox</td>\n",
       "      <td>Sales</td>\n",
       "      <td>Account Manager</td>\n",
       "      <td>2024-08-29</td>\n",
       "      <td>Frostbury, Taiwan</td>\n",
       "      <td>2</td>\n",
       "      <td>0</td>\n",
       "      <td>Resigned</td>\n",
       "      <td>Remote</td>\n",
       "      <td>728511</td>\n",
       "    </tr>\n",
       "    <tr>\n",
       "      <th>1048560</th>\n",
       "      <td>EMP1048561</td>\n",
       "      <td>Ashley Yoder</td>\n",
       "      <td>Operations</td>\n",
       "      <td>Supply Chain Manager</td>\n",
       "      <td>2024-12-07</td>\n",
       "      <td>Port Briannamouth, Azerbaijan</td>\n",
       "      <td>1</td>\n",
       "      <td>0</td>\n",
       "      <td>Resigned</td>\n",
       "      <td>On-site</td>\n",
       "      <td>430300</td>\n",
       "    </tr>\n",
       "    <tr>\n",
       "      <th>1048561</th>\n",
       "      <td>EMP1048562</td>\n",
       "      <td>Veronica Carrillo</td>\n",
       "      <td>IT</td>\n",
       "      <td>Software Engineer</td>\n",
       "      <td>2017-09-02</td>\n",
       "      <td>South Jillhaven, Egypt</td>\n",
       "      <td>5</td>\n",
       "      <td>7</td>\n",
       "      <td>Resigned</td>\n",
       "      <td>On-site</td>\n",
       "      <td>1405306</td>\n",
       "    </tr>\n",
       "    <tr>\n",
       "      <th>1048564</th>\n",
       "      <td>EMP1048565</td>\n",
       "      <td>Michael Mejia</td>\n",
       "      <td>Finance</td>\n",
       "      <td>Accountant</td>\n",
       "      <td>2022-12-25</td>\n",
       "      <td>Torresmouth, Northern Mariana Islands</td>\n",
       "      <td>1</td>\n",
       "      <td>2</td>\n",
       "      <td>Resigned</td>\n",
       "      <td>On-site</td>\n",
       "      <td>658187</td>\n",
       "    </tr>\n",
       "  </tbody>\n",
       "</table>\n",
       "<p>209342 rows × 11 columns</p>\n",
       "</div>"
      ],
      "text/plain": [
       "        Employee_ID          Full_Name  Department              Job_Title  \\\n",
       "0        EMP0000001      Joshua Nguyen          IT      Software Engineer   \n",
       "8        EMP0000009     Cathy Thompson     Finance      Financial Analyst   \n",
       "11       EMP0000012         Kevin Lowe       Sales        Account Manager   \n",
       "16       EMP0000017      Robert Martin  Operations  Logistics Coordinator   \n",
       "19       EMP0000020     Donald Hoffman   Marketing     Content Strategist   \n",
       "...             ...                ...         ...                    ...   \n",
       "1048552  EMP1048553      Diana Maxwell     Finance             Accountant   \n",
       "1048553  EMP1048554          Karen Cox       Sales        Account Manager   \n",
       "1048560  EMP1048561       Ashley Yoder  Operations   Supply Chain Manager   \n",
       "1048561  EMP1048562  Veronica Carrillo          IT      Software Engineer   \n",
       "1048564  EMP1048565      Michael Mejia     Finance             Accountant   \n",
       "\n",
       "         Hire_Date                               Location  Performance_Rating  \\\n",
       "0       2011-08-10                     Isaacland, Denmark                   5   \n",
       "8       2018-05-29                South Catherine, Belize                   4   \n",
       "11      2024-07-02                       East Kent, Qatar                   3   \n",
       "16      2025-05-13                Laurahaven, Afghanistan                   3   \n",
       "19      2022-04-01               South James, New Zealand                   3   \n",
       "...            ...                                    ...                 ...   \n",
       "1048552 2025-01-22  Kristenchester, Saint Kitts and Nevis                   1   \n",
       "1048553 2024-08-29                      Frostbury, Taiwan                   2   \n",
       "1048560 2024-12-07          Port Briannamouth, Azerbaijan                   1   \n",
       "1048561 2017-09-02                 South Jillhaven, Egypt                   5   \n",
       "1048564 2022-12-25  Torresmouth, Northern Mariana Islands                   1   \n",
       "\n",
       "         Experience_Years    Status Work_Mode  Salary_INR  \n",
       "0                      14  Resigned   On-site     1585363  \n",
       "8                       7  Resigned    Remote     1138452  \n",
       "11                      1  Resigned   On-site     1111759  \n",
       "16                      0  Resigned   On-site      859025  \n",
       "19                      3  Resigned   On-site      965154  \n",
       "...                   ...       ...       ...         ...  \n",
       "1048552                 0  Resigned    Remote      402050  \n",
       "1048553                 0  Resigned    Remote      728511  \n",
       "1048560                 0  Resigned   On-site      430300  \n",
       "1048561                 7  Resigned   On-site     1405306  \n",
       "1048564                 2  Resigned   On-site      658187  \n",
       "\n",
       "[209342 rows x 11 columns]"
      ]
     },
     "execution_count": 17,
     "metadata": {},
     "output_type": "execute_result"
    }
   ],
   "source": [
    "df_Resigned =  df[df['Status'] == 'Resigned']\n",
    "\n",
    "df_Resigned\n"
   ]
  },
  {
   "cell_type": "code",
   "execution_count": 18,
   "id": "7dbb8404",
   "metadata": {},
   "outputs": [
    {
     "data": {
      "application/vnd.microsoft.datawrangler.viewer.v0+json": {
       "columns": [
        {
         "name": "Department",
         "rawType": "object",
         "type": "string"
        },
        {
         "name": "Status",
         "rawType": "int64",
         "type": "integer"
        }
       ],
       "ref": "67130670-ef16-400f-8880-ae1e389885da",
       "rows": [
        [
         "Finance",
         "21082"
        ],
        [
         "HR",
         "16691"
        ],
        [
         "IT",
         "63063"
        ],
        [
         "Marketing",
         "24993"
        ],
        [
         "Operations",
         "31223"
        ],
        [
         "R&D",
         "10519"
        ],
        [
         "Sales",
         "41771"
        ]
       ],
       "shape": {
        "columns": 1,
        "rows": 7
       }
      },
      "text/plain": [
       "Department\n",
       "Finance       21082\n",
       "HR            16691\n",
       "IT            63063\n",
       "Marketing     24993\n",
       "Operations    31223\n",
       "R&D           10519\n",
       "Sales         41771\n",
       "Name: Status, dtype: int64"
      ]
     },
     "execution_count": 18,
     "metadata": {},
     "output_type": "execute_result"
    }
   ],
   "source": [
    "R_emp = df_Resigned.groupby('Department')['Status'].count()\n",
    "\n",
    "R_emp"
   ]
  },
  {
   "cell_type": "code",
   "execution_count": null,
   "id": "91c7019f",
   "metadata": {},
   "outputs": [],
   "source": []
  }
 ],
 "metadata": {
  "kernelspec": {
   "display_name": "Python 3",
   "language": "python",
   "name": "python3"
  },
  "language_info": {
   "codemirror_mode": {
    "name": "ipython",
    "version": 3
   },
   "file_extension": ".py",
   "mimetype": "text/x-python",
   "name": "python",
   "nbconvert_exporter": "python",
   "pygments_lexer": "ipython3",
   "version": "3.13.5"
  }
 },
 "nbformat": 4,
 "nbformat_minor": 5
}
